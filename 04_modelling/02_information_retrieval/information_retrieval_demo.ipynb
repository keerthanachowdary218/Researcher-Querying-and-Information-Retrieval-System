{
 "cells": [
  {
   "cell_type": "markdown",
   "id": "1e1710b7-c949-4b36-9b45-1b2f4c836b83",
   "metadata": {},
   "source": [
    "## Import Necessary Libraries"
   ]
  },
  {
   "cell_type": "code",
   "execution_count": 1,
   "id": "dc210f98-4731-4cf3-b057-ebf474c93324",
   "metadata": {},
   "outputs": [],
   "source": [
    "import pandas as pd\n",
    "import torch\n",
    "from transformers import AutoTokenizer, AutoModel, AutoModelForSeq2SeqLM\n",
    "from sklearn.metrics.pairwise import cosine_similarity\n",
    "from tqdm.autonotebook import tqdm\n",
    "from sentence_transformers import SentenceTransformer\n",
    "import pickle\n",
    "from information_retrieval import load_from_pickle, full_retriever, load_cde_model, assemble_dataframe, save_to_pickle\n",
    "import numpy as np"
   ]
  },
  {
   "cell_type": "markdown",
   "id": "1e9a1ace-f306-4d5c-8d3c-1289f76cfcac",
   "metadata": {},
   "source": [
    "## Generate Dataframe with Embeddings and Keywords"
   ]
  },
  {
   "cell_type": "markdown",
   "id": "6fed35b2-7798-4ee7-90c0-5c3da9b8546e",
   "metadata": {},
   "source": [
    "This process takes many hours to run. Feel free to skip the next 2 cells of code and load in the completed data from the Google Drive."
   ]
  },
  {
   "cell_type": "code",
   "execution_count": null,
   "id": "dff32f83-17b2-4e05-944a-8545a5d39f94",
   "metadata": {},
   "outputs": [],
   "source": [
    "cleaned_df = pd.read_csv(\"../../data/cleaned_dataset.csv\")\n",
    "publication_df = assemble_dataframe(cleaned_df)"
   ]
  },
  {
   "cell_type": "code",
   "execution_count": null,
   "id": "c01ee657-756b-4fab-8b85-775e3b999606",
   "metadata": {},
   "outputs": [],
   "source": [
    "save_to_pickle(publication_df)"
   ]
  },
  {
   "cell_type": "markdown",
   "id": "f7ccc9f1-e41e-4226-98a6-eead0d04b538",
   "metadata": {},
   "source": [
    "## Information Retrieval System"
   ]
  },
  {
   "cell_type": "markdown",
   "id": "694f011e-c469-40dd-b208-9299fc848772",
   "metadata": {},
   "source": [
    "The cell below this loads all necessary data and models. To use the retriever, copy the 2nd cell and simply change the question then run it."
   ]
  },
  {
   "cell_type": "code",
   "execution_count": 2,
   "id": "0ea30295-4470-422f-8996-5723621b8d02",
   "metadata": {},
   "outputs": [
    {
     "name": "stderr",
     "output_type": "stream",
     "text": [
      "C:\\Users\\tacom\\.cache\\huggingface\\modules\\transformers_modules\\nomic-ai\\nomic-bert-2048\\eb02ceb48c1fdcc477ff1925c9732c379f0f0d1f\\modeling_hf_nomic_bert.py:108: FutureWarning: You are using `torch.load` with `weights_only=False` (the current default value), which uses the default pickle module implicitly. It is possible to construct malicious pickle data which will execute arbitrary code during unpickling (See https://github.com/pytorch/pytorch/blob/main/SECURITY.md#untrusted-models for more details). In a future release, the default value for `weights_only` will be flipped to `True`. This limits the functions that could be executed during unpickling. Arbitrary objects will no longer be allowed to be loaded via this mode unless they are explicitly allowlisted by the user via `torch.serialization.add_safe_globals`. We recommend you start setting `weights_only=True` for any use case where you don't have full control of the loaded file. Please open an issue on GitHub for any issues related to this experimental feature.\n",
      "  state_dict = loader(resolved_archive_file)\n",
      "<All keys matched successfully>\n",
      "<All keys matched successfully>\n"
     ]
    },
    {
     "name": "stdout",
     "output_type": "stream",
     "text": [
      "Disabled 37 dropout modules from model type <class 'transformers_modules.jxm.cde-small-v1.9e2ed1d8d569d34458913d2d246935c1b2324d11.model.BiEncoder'>\n",
      "modified 12 rotary modules – set rotary_start_pos to 512\n",
      "Disabled 74 dropout modules from model type <class 'transformers_modules.jxm.cde-small-v1.9e2ed1d8d569d34458913d2d246935c1b2324d11.model.DatasetTransformer'>\n"
     ]
    }
   ],
   "source": [
    "publication_data = load_from_pickle(\"../../data/publication_data.pkl\")\n",
    "dataset_embeddings = load_from_pickle(\"../../data/dataset_embeddings.pkl\")['Embeddings'].tolist()\n",
    "cde_tokenizer, cde_model = load_cde_model()\n",
    "sbert_model = SentenceTransformer('all-mpnet-base-v2')"
   ]
  },
  {
   "cell_type": "code",
   "execution_count": 3,
   "id": "17623c7a-fe20-4869-87d3-a4fca368ee13",
   "metadata": {},
   "outputs": [
    {
     "data": {
      "text/html": [
       "<div>\n",
       "<style scoped>\n",
       "    .dataframe tbody tr th:only-of-type {\n",
       "        vertical-align: middle;\n",
       "    }\n",
       "\n",
       "    .dataframe tbody tr th {\n",
       "        vertical-align: top;\n",
       "    }\n",
       "\n",
       "    .dataframe thead th {\n",
       "        text-align: right;\n",
       "    }\n",
       "</style>\n",
       "<table border=\"1\" class=\"dataframe\">\n",
       "  <thead>\n",
       "    <tr style=\"text-align: right;\">\n",
       "      <th></th>\n",
       "      <th>Professor</th>\n",
       "      <th>Publication Year</th>\n",
       "      <th>Authors</th>\n",
       "      <th>Abstract</th>\n",
       "      <th>cde-small-v1</th>\n",
       "      <th>keywords</th>\n",
       "      <th>keyword_embeddings</th>\n",
       "      <th>similarity</th>\n",
       "    </tr>\n",
       "  </thead>\n",
       "  <tbody>\n",
       "    <tr>\n",
       "      <th>5400</th>\n",
       "      <td>Hon Chung Lau</td>\n",
       "      <td>2024</td>\n",
       "      <td>Wang J.; Lau H.C.; Jiang G.; Feng R.; Huang J.</td>\n",
       "      <td>Reduction of the CO2 concentration in the atmo...</td>\n",
       "      <td>[-0.046109385788440704, 0.05081407353281975, -...</td>\n",
       "      <td>CO2 storage, Mohe Basin, QTP, Qinghai-Tibet</td>\n",
       "      <td>[0.021426832, -0.039053176, 0.004017312, 0.054...</td>\n",
       "      <td>0.762543</td>\n",
       "    </tr>\n",
       "    <tr>\n",
       "      <th>8</th>\n",
       "      <td>Abbas Firoozabadi</td>\n",
       "      <td>2023</td>\n",
       "      <td>Moortgat J.; Firoozabadi A.</td>\n",
       "      <td>In this work, we numerically investigate the p...</td>\n",
       "      <td>[-0.028179176151752472, 0.07226267457008362, -...</td>\n",
       "      <td>CO2 viscosification, CO2 tip velocity, Subsurf...</td>\n",
       "      <td>[0.005302169, -0.1258437, 0.039011665, 0.01376...</td>\n",
       "      <td>0.737951</td>\n",
       "    </tr>\n",
       "    <tr>\n",
       "      <th>5410</th>\n",
       "      <td>Hon Chung Lau</td>\n",
       "      <td>2022</td>\n",
       "      <td>Zhang K.; Lau H.C.; Liu S.; Li H.</td>\n",
       "      <td>In this study, we evaluate offshore carbon cap...</td>\n",
       "      <td>[-0.04916985705494881, 0.0504295751452446, -0....</td>\n",
       "      <td>carbon capture and storage, coastal region, oi...</td>\n",
       "      <td>[0.05219021, 0.000908725, -0.006830607, 0.0078...</td>\n",
       "      <td>0.734717</td>\n",
       "    </tr>\n",
       "    <tr>\n",
       "      <th>77</th>\n",
       "      <td>Abbas Firoozabadi</td>\n",
       "      <td>2012</td>\n",
       "      <td>Cheng P.; Bestehorn M.; Firoozabadi A.</td>\n",
       "      <td>Solubility trapping of carbon dioxide (CO2) in...</td>\n",
       "      <td>[-0.057212863117456436, 0.010424151085317135, ...</td>\n",
       "      <td>CO2, CO2, Carbon dioxide, Solubility trapping,...</td>\n",
       "      <td>[0.029133348, -0.11007575, 0.025736747, -0.008...</td>\n",
       "      <td>0.733785</td>\n",
       "    </tr>\n",
       "    <tr>\n",
       "      <th>5406</th>\n",
       "      <td>Hon Chung Lau</td>\n",
       "      <td>2022</td>\n",
       "      <td>Zhang K.; Lau H.C.</td>\n",
       "      <td>CO2 has been successfully sequestered in aquif...</td>\n",
       "      <td>[-0.08185304701328278, 0.04565892368555069, -0...</td>\n",
       "      <td>Hydrate stability zone, CO2, Hydrate injection...</td>\n",
       "      <td>[-0.0306172, -0.11805874, 0.00756407, -0.00183...</td>\n",
       "      <td>0.733735</td>\n",
       "    </tr>\n",
       "  </tbody>\n",
       "</table>\n",
       "</div>"
      ],
      "text/plain": [
       "              Professor Publication Year  \\\n",
       "5400      Hon Chung Lau             2024   \n",
       "8     Abbas Firoozabadi             2023   \n",
       "5410      Hon Chung Lau             2022   \n",
       "77    Abbas Firoozabadi             2012   \n",
       "5406      Hon Chung Lau             2022   \n",
       "\n",
       "                                             Authors  \\\n",
       "5400  Wang J.; Lau H.C.; Jiang G.; Feng R.; Huang J.   \n",
       "8                        Moortgat J.; Firoozabadi A.   \n",
       "5410               Zhang K.; Lau H.C.; Liu S.; Li H.   \n",
       "77            Cheng P.; Bestehorn M.; Firoozabadi A.   \n",
       "5406                              Zhang K.; Lau H.C.   \n",
       "\n",
       "                                               Abstract  \\\n",
       "5400  Reduction of the CO2 concentration in the atmo...   \n",
       "8     In this work, we numerically investigate the p...   \n",
       "5410  In this study, we evaluate offshore carbon cap...   \n",
       "77    Solubility trapping of carbon dioxide (CO2) in...   \n",
       "5406  CO2 has been successfully sequestered in aquif...   \n",
       "\n",
       "                                           cde-small-v1  \\\n",
       "5400  [-0.046109385788440704, 0.05081407353281975, -...   \n",
       "8     [-0.028179176151752472, 0.07226267457008362, -...   \n",
       "5410  [-0.04916985705494881, 0.0504295751452446, -0....   \n",
       "77    [-0.057212863117456436, 0.010424151085317135, ...   \n",
       "5406  [-0.08185304701328278, 0.04565892368555069, -0...   \n",
       "\n",
       "                                               keywords  \\\n",
       "5400        CO2 storage, Mohe Basin, QTP, Qinghai-Tibet   \n",
       "8     CO2 viscosification, CO2 tip velocity, Subsurf...   \n",
       "5410  carbon capture and storage, coastal region, oi...   \n",
       "77    CO2, CO2, Carbon dioxide, Solubility trapping,...   \n",
       "5406  Hydrate stability zone, CO2, Hydrate injection...   \n",
       "\n",
       "                                     keyword_embeddings  similarity  \n",
       "5400  [0.021426832, -0.039053176, 0.004017312, 0.054...    0.762543  \n",
       "8     [0.005302169, -0.1258437, 0.039011665, 0.01376...    0.737951  \n",
       "5410  [0.05219021, 0.000908725, -0.006830607, 0.0078...    0.734717  \n",
       "77    [0.029133348, -0.11007575, 0.025736747, -0.008...    0.733785  \n",
       "5406  [-0.0306172, -0.11805874, 0.00756407, -0.00183...    0.733735  "
      ]
     },
     "execution_count": 3,
     "metadata": {},
     "output_type": "execute_result"
    }
   ],
   "source": [
    "full_retriever(df = publication_data,\n",
    "               sbert_model = sbert_model,\n",
    "               cde_tokenizer = cde_tokenizer,\n",
    "               cde_model = cde_model,\n",
    "               question = \"Identify researchers focusing on CO2 storage and its applications in saline aquifers.\",\n",
    "               dataset_embeddings = dataset_embeddings)"
   ]
  }
 ],
 "metadata": {
  "kernelspec": {
   "display_name": "Python 3 (ipykernel)",
   "language": "python",
   "name": "python3"
  },
  "language_info": {
   "codemirror_mode": {
    "name": "ipython",
    "version": 3
   },
   "file_extension": ".py",
   "mimetype": "text/x-python",
   "name": "python",
   "nbconvert_exporter": "python",
   "pygments_lexer": "ipython3",
   "version": "3.9.20"
  }
 },
 "nbformat": 4,
 "nbformat_minor": 5
}
